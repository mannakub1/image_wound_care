{
 "cells": [
  {
   "cell_type": "code",
   "execution_count": 36,
   "metadata": {
    "collapsed": true
   },
   "outputs": [],
   "source": [
    "from os import walk\n",
    "import os\n",
    "import shutil"
   ]
  },
  {
   "cell_type": "code",
   "execution_count": 2,
   "metadata": {
    "collapsed": true
   },
   "outputs": [],
   "source": [
    "path = \"image/man\""
   ]
  },
  {
   "cell_type": "code",
   "execution_count": 3,
   "metadata": {},
   "outputs": [],
   "source": [
    "dir_files = []\n",
    "for (dirpath, dirnames, filename) in walk(path):\n",
    "    if len(dirnames) > 4:\n",
    "        dir_files.extend(dirnames)"
   ]
  },
  {
   "cell_type": "code",
   "execution_count": 4,
   "metadata": {},
   "outputs": [
    {
     "name": "stdout",
     "output_type": "stream",
     "text": [
      "1268\n"
     ]
    }
   ],
   "source": [
    "print(len(dir_files))\n",
    "dir_files = list(map(str, sorted(list(map(int, dir_files)))))"
   ]
  },
  {
   "cell_type": "code",
   "execution_count": 44,
   "metadata": {},
   "outputs": [],
   "source": [
    "# image_files = []\n",
    "for current_dir in dir_files :\n",
    "    current_path = path + \"/\" + current_dir\n",
    "    files = [filename for (dirpath, dirnames, filename) in walk(current_path)]\n",
    "    for file in files[0]:\n",
    "        if (file.lower().find('.jpg') > -1) and ((file.lower().find('mini') == -1) and (file.lower().find('thumb')== -1) and (file.lower().find('default') == -1) and (file.lower().find('normal') == -1)):\n",
    "            image_files = path + \"/\" + current_dir+ \"/\" +file\n",
    "            print(image_files)\n",
    "            os.rename(image_files, path + \"/\" + current_dir +\".jpg\")"
   ]
  },
  {
   "cell_type": "code",
   "execution_count": 38,
   "metadata": {},
   "outputs": [
    {
     "name": "stdout",
     "output_type": "stream",
     "text": [
      "387\n"
     ]
    }
   ],
   "source": [
    "print(len(image_files))"
   ]
  },
  {
   "cell_type": "code",
   "execution_count": 40,
   "metadata": {},
   "outputs": [
    {
     "name": "stdout",
     "output_type": "stream",
     "text": [
      "['image/man/404/08b4277f-ce35-4a9f-ac3f-a80da2ca6e96.JPG', 'image/man/543/d8099fcc-7b9e-44ac-8ec3-819fe9d2d543.JPG', 'image/man/544/cb9b732e-77ed-4419-abba-070a7ba1c15d.JPG']\n"
     ]
    }
   ],
   "source": [
    "print(image_files[:3])"
   ]
  },
  {
   "cell_type": "code",
   "execution_count": null,
   "metadata": {
    "collapsed": true
   },
   "outputs": [],
   "source": []
  }
 ],
 "metadata": {
  "kernelspec": {
   "display_name": "Python 3",
   "language": "python",
   "name": "python3"
  },
  "language_info": {
   "codemirror_mode": {
    "name": "ipython",
    "version": 3
   },
   "file_extension": ".py",
   "mimetype": "text/x-python",
   "name": "python",
   "nbconvert_exporter": "python",
   "pygments_lexer": "ipython3",
   "version": "3.6.2"
  }
 },
 "nbformat": 4,
 "nbformat_minor": 2
}
